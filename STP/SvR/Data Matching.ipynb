{
 "cells": [
  {
   "cell_type": "code",
   "execution_count": 197,
   "metadata": {},
   "outputs": [],
   "source": [
    "import os\n",
    "from os import path\n",
    "import pandas as pd\n",
    "import seaborn as sns\n",
    "import warnings\n",
    "import matplotlib.pyplot as plt\n",
    "from itertools import product\n",
    "import numpy as np\n",
    "warnings.filterwarnings('ignore')\n",
    "sns.set_theme(style=\"white\")\n",
    "\n",
    "\n",
    "from sklearn.preprocessing import  OneHotEncoder\n",
    "from sklearn.model_selection import train_test_split\n",
    "from sklearn.neural_network import MLPClassifier\n",
    "from sklearn.multioutput import MultiOutputClassifier\n",
    "from sklearn.neighbors import KNeighborsClassifier\n",
    "from sklearn.metrics import accuracy_score,f1_score,recall_score,precision_score\n"
   ]
  },
  {
   "cell_type": "code",
   "execution_count": 5,
   "metadata": {},
   "outputs": [],
   "source": [
    "path = 'PAN/Data/'\n",
    "paths = [path +csv for csv in os.listdir(path)]\n",
    "CLEAN = [path for path in paths if 'CLN' in path]"
   ]
  },
  {
   "cell_type": "code",
   "execution_count": 29,
   "metadata": {},
   "outputs": [],
   "source": [
    "data = pd.read_csv(CLEAN[0])\n",
    "FEATS = list(data.columns[:9])\n",
    "FEATS.remove('i_qnt')\n",
    "LABELS = ['0.5','0.75']"
   ]
  },
  {
   "cell_type": "code",
   "execution_count": 15,
   "metadata": {},
   "outputs": [],
   "source": [
    "HALF = [path for path in CLEAN if \"_50_\" in path]\n",
    "SEVE = [path for path in CLEAN if \"_75_\" in path]\n",
    "NINE = [path for path in CLEAN if \"_90_\" in path]"
   ]
  },
  {
   "cell_type": "markdown",
   "metadata": {},
   "source": [
    "The next line will verify whether all the columns are in the same order across all DataFrames"
   ]
  },
  {
   "cell_type": "code",
   "execution_count": 26,
   "metadata": {},
   "outputs": [
    {
     "data": {
      "text/plain": [
       "True"
      ]
     },
     "execution_count": 26,
     "metadata": {},
     "output_type": "execute_result"
    }
   ],
   "source": [
    "FEATS_TABLE = pd.read_csv(HALF[0])[FEATS]\n",
    "\n",
    "flag = True\n",
    "for path in CLEAN:\n",
    "    data = pd.read_csv(path)[FEATS]\n",
    "    for i in range(data.shape[0]):\n",
    "        if not data.iloc[i].equals(FEATS_TABLE.iloc[i]): \n",
    "            flag = False\n",
    "flag"
   ]
  },
  {
   "cell_type": "code",
   "execution_count": 74,
   "metadata": {},
   "outputs": [],
   "source": [
    "path_50 = 'PAN/ALL/CLN_HLT_ALL_50_qnt.csv'\n",
    "\n",
    "if not path.exists(path_50):\n",
    "    \n",
    "    LABELS_HALF = [label for label in LABELS]*3\n",
    "    LABELS_HALF = [label+'_'+ds[-14:-11] for label,ds in zip(LABELS_HALF,HALF*3)]\n",
    "    \n",
    "    CLN_HLT_ALL_50_qnt = pd.DataFrame(columns=FEATS+LABELS_HALF)\n",
    "    TTI_50 = pd.read_csv(HALF[0])\n",
    "    TTO_50 = pd.read_csv(HALF[1])\n",
    "    WOP_50 = pd.read_csv(HALF[2])\n",
    "    \n",
    "    for i in range(TTI_50.shape[0]):\n",
    "        FEATS_ = {feat:value for feat,value in zip(FEATS, TTI_50[FEATS].iloc[i])}\n",
    "        LABELS_ = {}\n",
    "        for label in LABELS_HALF:\n",
    "            if \"TTI\" in label:\n",
    "                LABELS_[label] = TTI_50[label[:-4]].iloc[i]\n",
    "            elif \"TTO\" in label:\n",
    "                LABELS_[label] = TTO_50[label[:-4]].iloc[i]\n",
    "            elif \"WOP\" in label:\n",
    "                LABELS_[label] = WOP_50[label[:-4]].iloc[i]\n",
    "\n",
    "        FEATS_.update(LABELS_)\n",
    "        CLN_HLT_ALL_50_qnt.loc[i] = FEATS_\n",
    "\n",
    "\n",
    "    CLN_HLT_ALL_50_qnt.to_csv(path)"
   ]
  },
  {
   "cell_type": "code",
   "execution_count": 77,
   "metadata": {},
   "outputs": [],
   "source": [
    "ohe = OneHotEncoder()\n",
    "ohe_vector = ohe.fit_transform(CLN_HLT_ALL_50_qnt[LABELS_HALF]).toarray()\n",
    "\n",
    "X_train, X_test, y_train, y_test = train_test_split(CLN_HLT_ALL_50_qnt[FEATS], ohe_vector)"
   ]
  },
  {
   "cell_type": "code",
   "execution_count": 86,
   "metadata": {},
   "outputs": [
    {
     "name": "stdout",
     "output_type": "stream",
     "text": [
      "********** \n",
      "KNN  SCORES\n",
      " **********\n",
      "ACCURACY  : 0.6245695592286501\n",
      "F1 SCORE  : 0.8763495975745413\n",
      "RECALL    : 0.888304222860933\n",
      "PRECISION : 0.8647124655647382\n",
      "\n"
     ]
    }
   ],
   "source": [
    "#########################################\n",
    "########## KNN CLASSIFIER ###############\n",
    "#########################################\n",
    "\n",
    "clf = KNeighborsClassifier(n_neighbors=7, algorithm='ball_tree')\n",
    "m_clf = MultiOutputClassifier(clf,n_jobs=-1).fit(X_train, y_train)\n",
    "\n",
    "y_pred = m_clf.predict(X_test)\n",
    "print('*'*10,'\\nKNN  SCORES\\n','*'*10)\n",
    "ac = accuracy_score(y_pred,y_test)\n",
    "f1 = f1_score(y_pred,y_test,average='micro')\n",
    "rec = recall_score(y_pred,y_test,average='micro')\n",
    "prec = precision_score(y_pred,y_test,average='micro')\n",
    "\n",
    "print(f'ACCURACY  : {ac}\\nF1 SCORE  : {f1}\\nRECALL    : {rec}\\nPRECISION : {prec}\\n')"
   ]
  },
  {
   "cell_type": "code",
   "execution_count": 183,
   "metadata": {},
   "outputs": [],
   "source": [
    "class Pipeline_multioutput():\n",
    "    \"\"\"\n",
    "    Class which implements the usage of a single pipeline with \n",
    "    one estimator on scikit-learn's MultioutputClassifier.\n",
    "    \"\"\"\n",
    "    \n",
    "    def __init__(self, estimator):\n",
    "        \"\"\"\n",
    "        Params:\n",
    "            estimator(sklearn estimator): Estimator on which the pipeline will be\n",
    "                                done\n",
    "        \"\"\"\n",
    "        self.estimator = estimator\n",
    "        self.fit_done = False\n",
    "    \n",
    "    def set_params(self,params,njobs=-1):\n",
    "        \n",
    "        \"\"\"\n",
    "        Function which will set the class' estimator with the multioutput classifier.\n",
    "        ----------------------------------------------------------\n",
    "        Params:\n",
    "            params (dict): Parameters for the class' estimator.\n",
    "            njobs (int): The number of jobs to run in parallel.\n",
    "        \"\"\"\n",
    "        self.params = params\n",
    "        clf = self.estimator(**self.params)\n",
    "        m_clf = MultiOutputClassifier(clf,njobs)\n",
    "        self.classifier = m_clf\n",
    "    \n",
    "    def fit(self, X,y):\n",
    "        \"\"\"\n",
    "        Function which will fit the estimator with the multioutput classifier\n",
    "        in which X is the input and y is the desired output.\n",
    "        If no parameters had been set before (by using self.set_params)\n",
    "        the default parameters for the estimator will be set.\n",
    "        ----------------------------------------------------------\n",
    "        Params:\n",
    "            X (array): Input Data.\n",
    "            Y (array): Target value.\n",
    "            \n",
    "        \"\"\"\n",
    "        try:\n",
    "            self.classifier\n",
    "        except Exception:\n",
    "            try:\n",
    "                clf = self.estimator()\n",
    "                m_clf = MultiOutputClassifier(clf)\n",
    "                self.classifier = m_clf\n",
    "            except Exception:\n",
    "                raise Exception('Parameters for {} must be set before'.format(self.estimator))\n",
    "        \n",
    "        self.classifier.fit(X_train,y_train)\n",
    "        self.fit_done = True\n",
    "        \n",
    "    def predict(self,X):\n",
    "        \"\"\"\n",
    "        Predict multi-output variable using a model trained.\n",
    "        ------------------------------------------------------\n",
    "        Params:\n",
    "            X(array): Input Data.\n",
    "        Returns:\n",
    "            (array): Predicted values.\n",
    "        \"\"\"\n",
    "        if not self.fit_done:\n",
    "            raise Exception('The model has not been fitted.')\n",
    "        return self.classifier.predict(X)\n",
    "    \n",
    "    def score(self,X,y,verbose=False):\n",
    "        \"\"\"\n",
    "        Scoring for the model.\n",
    "        -------------------------------\n",
    "        Params:\n",
    "            X (array): Input Data.\n",
    "            Y (array): Target value.\n",
    "            verbose(bool): If set True, each score will be shown.\n",
    "        Returns:\n",
    "            scores(tuple): Accuracy, F1-score, Recall and Precision\n",
    "        \"\"\"\n",
    "        y_pred = self.predict(X)\n",
    "        ac = accuracy_score(y_pred,y)\n",
    "        f1 = f1_score(y_pred,y,average='micro')\n",
    "        rec = recall_score(y_pred,y,average='micro')\n",
    "        prec = precision_score(y_pred,y,average='micro')\n",
    "        if verbose:\n",
    "            print(f'ACCURACY  : {ac}\\nF1 SCORE  : {f1}\\nRECALL    : {rec}\\nPRECISION : {prec}\\n')\n",
    "        \n",
    "        scores = {'accuracy':ac,'f1':f1,'recall':rec,'precision':prec,'average':sum([ac,f1,rec,prec])/4}\n",
    "        return scores\n",
    "    \n",
    "    def get_params(self):\n",
    "        return self.classifier.get_params()\n",
    "    \n",
    "    def GridSearch(self,params,X_train,y_train,X_test,y_test,scoring='accuracy',njobs=-1,verbose=False):\n",
    "        \"\"\"\n",
    "        Gridsearch on specified parameter space.\n",
    "        -----------------------------------------\n",
    "        Params:\n",
    "            params(dict): Dictionary ({param:values}) where vaules is a list containing the parameters on\n",
    "                         which the gridsearch will be done.\n",
    "            X_train(array): Input Data for training.\n",
    "            y_train(array): Target values for training.\n",
    "            X_test(array): Input Data for testing.\n",
    "            y_test(array): Target values for testing.\n",
    "            scoring(str): Scoring method for evaluating the model. Can be choosen between: 'accuracy',\n",
    "                         'f1', 'recall', 'precision' and 'average'. (Default = accuracy)\n",
    "            njobs (int): The number of jobs to run in parallel.(Default=-1)\n",
    "        \"\"\"\n",
    "        best_score = 0\n",
    "        params_comb = product(*params.values())\n",
    "        for values in params_comb:\n",
    "            try:\n",
    "                param_dict = {param:value for param,value in zip(params.keys(),values)}\n",
    "\n",
    "                self.set_params(param_dict,njobs)\n",
    "                self.fit(X_train,y_train)\n",
    "                score = self.score(X_test,y_test)[scoring]\n",
    "                if verbose:\n",
    "                    print(param_dict)\n",
    "                    print(f'{scoring} Score:{score}')\n",
    "                if score > best_score:\n",
    "                    best_params = self.get_params()\n",
    "                    best_score = score\n",
    "            except Exception:\n",
    "                continue\n",
    "            \n",
    "        return best_params, best_score\n",
    "                "
   ]
  },
  {
   "cell_type": "markdown",
   "metadata": {},
   "source": [
    "Best params for KNN:"
   ]
  },
  {
   "cell_type": "code",
   "execution_count": 184,
   "metadata": {},
   "outputs": [],
   "source": [
    "params = {'n_neighbors':[2,3,4,5,6,7,8,9,10], 'algorithm':['ball_tree','kd_tree'], 'metric':['hamming','minkowski']}\n",
    "KNN = Pipeline_multioutput(KNeighborsClassifier)\n",
    "KNN_params = KNN.GridSearch(params,X_train,y_train,X_test,y_test,scoring='average')"
   ]
  },
  {
   "cell_type": "code",
   "execution_count": 186,
   "metadata": {},
   "outputs": [
    {
     "data": {
      "text/plain": [
       "({'estimator__algorithm': 'ball_tree',\n",
       "  'estimator__leaf_size': 30,\n",
       "  'estimator__metric': 'minkowski',\n",
       "  'estimator__metric_params': None,\n",
       "  'estimator__n_jobs': None,\n",
       "  'estimator__n_neighbors': 2,\n",
       "  'estimator__p': 2,\n",
       "  'estimator__weights': 'uniform',\n",
       "  'estimator': KNeighborsClassifier(algorithm='ball_tree', n_neighbors=2),\n",
       "  'n_jobs': -1},\n",
       " 0.8929219830977282)"
      ]
     },
     "execution_count": 186,
     "metadata": {},
     "output_type": "execute_result"
    }
   ],
   "source": [
    "KNN_params"
   ]
  },
  {
   "cell_type": "markdown",
   "metadata": {},
   "source": [
    "Best params for SVM:"
   ]
  },
  {
   "cell_type": "code",
   "execution_count": 187,
   "metadata": {},
   "outputs": [],
   "source": [
    "params = {'criterion':[\"gini\", \"entropy\"],\"splitter\":[\"best\",\"random\"],'max_features':['log2','auto']}\n",
    "from sklearn.tree import DecisionTreeClassifier\n",
    "TREE = Pipeline_multioutput(DecisionTreeClassifier)\n",
    "TREE_params = TREE.GridSearch(params,X_train,y_train,X_test,y_test,scoring='average')"
   ]
  },
  {
   "cell_type": "code",
   "execution_count": 188,
   "metadata": {},
   "outputs": [
    {
     "data": {
      "text/plain": [
       "({'estimator__ccp_alpha': 0.0,\n",
       "  'estimator__class_weight': None,\n",
       "  'estimator__criterion': 'gini',\n",
       "  'estimator__max_depth': None,\n",
       "  'estimator__max_features': 'log2',\n",
       "  'estimator__max_leaf_nodes': None,\n",
       "  'estimator__min_impurity_decrease': 0.0,\n",
       "  'estimator__min_impurity_split': None,\n",
       "  'estimator__min_samples_leaf': 1,\n",
       "  'estimator__min_samples_split': 2,\n",
       "  'estimator__min_weight_fraction_leaf': 0.0,\n",
       "  'estimator__random_state': None,\n",
       "  'estimator__splitter': 'best',\n",
       "  'estimator': DecisionTreeClassifier(max_features='log2'),\n",
       "  'n_jobs': -1},\n",
       " 0.946743914066129)"
      ]
     },
     "execution_count": 188,
     "metadata": {},
     "output_type": "execute_result"
    }
   ],
   "source": [
    "TREE_params"
   ]
  },
  {
   "cell_type": "code",
   "execution_count": 129,
   "metadata": {},
   "outputs": [
    {
     "name": "stdout",
     "output_type": "stream",
     "text": [
      "ACCURACY  : 0.6862086776859504\n",
      "F1 SCORE  : 0.889886564739331\n",
      "RECALL    : 0.8997799941331769\n",
      "PRECISION : 0.8802083333333334\n",
      "\n"
     ]
    },
    {
     "data": {
      "text/plain": [
       "(0.6862086776859504, 0.889886564739331, 0.8997799941331769, 0.8802083333333334)"
      ]
     },
     "execution_count": 129,
     "metadata": {},
     "output_type": "execute_result"
    }
   ],
   "source": [
    "from sklearn import svm\n",
    "params = {'penalty':['l1', 'l2'],}\n",
    "SVM = Pipeline_multioutput(LinearSVC)\n"
   ]
  },
  {
   "cell_type": "code",
   "execution_count": 114,
   "metadata": {},
   "outputs": [
    {
     "data": {
      "text/plain": [
       "{'estimator__algorithm': 'ball_tree',\n",
       " 'estimator__leaf_size': 30,\n",
       " 'estimator__metric': 'minkowski',\n",
       " 'estimator__metric_params': None,\n",
       " 'estimator__n_jobs': None,\n",
       " 'estimator__n_neighbors': 7,\n",
       " 'estimator__p': 2,\n",
       " 'estimator__weights': 'uniform',\n",
       " 'estimator': KNeighborsClassifier(algorithm='ball_tree', n_neighbors=7),\n",
       " 'n_jobs': -1}"
      ]
     },
     "execution_count": 114,
     "metadata": {},
     "output_type": "execute_result"
    }
   ],
   "source": [
    "KNN.classifier.get_params()"
   ]
  },
  {
   "cell_type": "code",
   "execution_count": 202,
   "metadata": {},
   "outputs": [],
   "source": [
    "params = dict(penalty=['l1','l2','elasticnet'],\n",
    "             C = np.linspace(6,60,num=30),\n",
    "             solver=['newton-cg','lbfgs','sag'])\n",
    "\n",
    "logistic = Pipeline_multioutput(LogisticRegression)\n",
    "logistic_params = logistic.GridSearch(params,X_train,y_train,X_test,y_test,scoring='average')"
   ]
  },
  {
   "cell_type": "code",
   "execution_count": 204,
   "metadata": {},
   "outputs": [
    {
     "data": {
      "text/plain": [
       "({'estimator__C': 35.79310344827586,\n",
       "  'estimator__class_weight': None,\n",
       "  'estimator__dual': False,\n",
       "  'estimator__fit_intercept': True,\n",
       "  'estimator__intercept_scaling': 1,\n",
       "  'estimator__l1_ratio': None,\n",
       "  'estimator__max_iter': 100,\n",
       "  'estimator__multi_class': 'auto',\n",
       "  'estimator__n_jobs': None,\n",
       "  'estimator__penalty': 'l2',\n",
       "  'estimator__random_state': None,\n",
       "  'estimator__solver': 'lbfgs',\n",
       "  'estimator__tol': 0.0001,\n",
       "  'estimator__verbose': 0,\n",
       "  'estimator__warm_start': False,\n",
       "  'estimator': LogisticRegression(C=35.79310344827586),\n",
       "  'n_jobs': -1},\n",
       " 0.5252080050459023)"
      ]
     },
     "execution_count": 204,
     "metadata": {},
     "output_type": "execute_result"
    }
   ],
   "source": [
    "logistic_params"
   ]
  },
  {
   "cell_type": "code",
   "execution_count": 200,
   "metadata": {},
   "outputs": [
    {
     "data": {
      "text/plain": [
       "({'estimator__C': 6.0,\n",
       "  'estimator__class_weight': None,\n",
       "  'estimator__dual': False,\n",
       "  'estimator__fit_intercept': True,\n",
       "  'estimator__intercept_scaling': 1,\n",
       "  'estimator__l1_ratio': None,\n",
       "  'estimator__max_iter': 100,\n",
       "  'estimator__multi_class': 'auto',\n",
       "  'estimator__n_jobs': None,\n",
       "  'estimator__penalty': 'l2',\n",
       "  'estimator__random_state': None,\n",
       "  'estimator__solver': 'lbfgs',\n",
       "  'estimator__tol': 0.0001,\n",
       "  'estimator__verbose': 0,\n",
       "  'estimator__warm_start': False,\n",
       "  'estimator': LogisticRegression(C=6.0),\n",
       "  'n_jobs': -1},\n",
       " 0.5226206777048386)"
      ]
     },
     "execution_count": 200,
     "metadata": {},
     "output_type": "execute_result"
    }
   ],
   "source": [
    "logistic_params"
   ]
  },
  {
   "cell_type": "code",
   "execution_count": 207,
   "metadata": {},
   "outputs": [],
   "source": [
    "from sklearn.model_selection import RandomizedSearchCV\n",
    "import scipy.stats\n",
    "from sklearn.linear_model import LogisticRegression\n",
    "from sklearn.ensemble import RandomForestClassifier\n",
    "\n",
    "FOREST = RandomForestClassifier()\n",
    "params = {\"n_estimators\": scipy.stats.randint(50,200),\n",
    "          'criterion':[\"gini\", \"entropy\"],\n",
    "          \"max_depth\":scipy.stats.randint(1,1000),\n",
    "          'max_features':['log2','auto']}\n",
    "\n",
    "clf = RandomizedSearchCV(FOREST, params)\n",
    "\n",
    "search = clf.fit(X_train,y_train)"
   ]
  },
  {
   "cell_type": "code",
   "execution_count": 208,
   "metadata": {},
   "outputs": [
    {
     "name": "stdout",
     "output_type": "stream",
     "text": [
      "********** \n",
      "NEURAL NETWORK SCORES\n",
      " **********\n",
      "ACCURACY  : 0.6893939393939394\n",
      "F1 SCORE  : 0.9219001551652547\n",
      "RECALL    : 0.9363540849697383\n",
      "PRECISION : 0.9078856749311295\n",
      "\n"
     ]
    }
   ],
   "source": [
    "#######################################\n",
    "########### NEURAL NETWORK ############\n",
    "#######################################\n",
    "\n",
    "NN = MLPClassifier(activation='logistic',solver='lbfgs',max_iter=10000)\n",
    "NN.fit(X_train,y_train)\n",
    "\n",
    "y_pred = NN.predict(X_test)\n",
    "print('*'*10,'\\nNEURAL NETWORK SCORES\\n','*'*10)\n",
    "ac = accuracy_score(y_pred,y_test)\n",
    "f1 = f1_score(y_pred,y_test,average='micro')\n",
    "rec = recall_score(y_pred,y_test,average='micro')\n",
    "prec = precision_score(y_pred,y_test,average='micro')\n",
    "\n",
    "print(f'ACCURACY  : {ac}\\nF1 SCORE  : {f1}\\nRECALL    : {rec}\\nPRECISION : {prec}\\n')"
   ]
  },
  {
   "cell_type": "code",
   "execution_count": 214,
   "metadata": {},
   "outputs": [
    {
     "data": {
      "text/plain": [
       "{'cv': None,\n",
       " 'error_score': nan,\n",
       " 'estimator__bootstrap': True,\n",
       " 'estimator__ccp_alpha': 0.0,\n",
       " 'estimator__class_weight': None,\n",
       " 'estimator__criterion': 'gini',\n",
       " 'estimator__max_depth': None,\n",
       " 'estimator__max_features': 'auto',\n",
       " 'estimator__max_leaf_nodes': None,\n",
       " 'estimator__max_samples': None,\n",
       " 'estimator__min_impurity_decrease': 0.0,\n",
       " 'estimator__min_impurity_split': None,\n",
       " 'estimator__min_samples_leaf': 1,\n",
       " 'estimator__min_samples_split': 2,\n",
       " 'estimator__min_weight_fraction_leaf': 0.0,\n",
       " 'estimator__n_estimators': 100,\n",
       " 'estimator__n_jobs': None,\n",
       " 'estimator__oob_score': False,\n",
       " 'estimator__random_state': None,\n",
       " 'estimator__verbose': 0,\n",
       " 'estimator__warm_start': False,\n",
       " 'estimator': RandomForestClassifier(),\n",
       " 'n_iter': 10,\n",
       " 'n_jobs': None,\n",
       " 'param_distributions': {'n_estimators': <scipy.stats._distn_infrastructure.rv_frozen at 0x7efc5e96ba60>,\n",
       "  'criterion': ['gini', 'entropy'],\n",
       "  'max_depth': <scipy.stats._distn_infrastructure.rv_frozen at 0x7efc5d259400>,\n",
       "  'max_features': ['log2', 'auto']},\n",
       " 'pre_dispatch': '2*n_jobs',\n",
       " 'random_state': None,\n",
       " 'refit': True,\n",
       " 'return_train_score': False,\n",
       " 'scoring': None,\n",
       " 'verbose': 0}"
      ]
     },
     "execution_count": 214,
     "metadata": {},
     "output_type": "execute_result"
    }
   ],
   "source": [
    "search.get_params()"
   ]
  },
  {
   "cell_type": "code",
   "execution_count": 213,
   "metadata": {},
   "outputs": [
    {
     "name": "stdout",
     "output_type": "stream",
     "text": [
      "********** \n",
      "NEURAL NETWORK SCORES\n",
      " **********\n",
      "ACCURACY  : 0.9566976584022039\n",
      "F1 SCORE  : 0.9909480499903092\n",
      "RECALL    : 0.9915530591429516\n",
      "PRECISION : 0.9903437786960514\n",
      "\n"
     ]
    }
   ],
   "source": [
    "\n",
    "y_pred = search.predict(X_test)\n",
    "print('*'*10,'\\nNEURAL NETWORK SCORES\\n','*'*10)\n",
    "ac = accuracy_score(y_pred,y_test)\n",
    "f1 = f1_score(y_pred,y_test,average='micro')\n",
    "rec = recall_score(y_pred,y_test,average='micro')\n",
    "prec = precision_score(y_pred,y_test,average='micro')\n",
    "\n",
    "print(f'ACCURACY  : {ac}\\nF1 SCORE  : {f1}\\nRECALL    : {rec}\\nPRECISION : {prec}\\n')"
   ]
  }
 ],
 "metadata": {
  "kernelspec": {
   "display_name": "Python 3",
   "language": "python",
   "name": "python3"
  },
  "language_info": {
   "codemirror_mode": {
    "name": "ipython",
    "version": 3
   },
   "file_extension": ".py",
   "mimetype": "text/x-python",
   "name": "python",
   "nbconvert_exporter": "python",
   "pygments_lexer": "ipython3",
   "version": "3.8.6"
  }
 },
 "nbformat": 4,
 "nbformat_minor": 4
}
