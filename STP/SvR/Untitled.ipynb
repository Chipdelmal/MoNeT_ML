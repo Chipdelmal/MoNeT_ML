{
 "cells": [
  {
   "cell_type": "code",
   "execution_count": 65,
   "metadata": {},
   "outputs": [],
   "source": [
    "import os\n",
    "from os import path\n",
    "import pandas as pd\n",
    "import seaborn as sns\n",
    "import warnings\n",
    "import matplotlib.pyplot as plt\n",
    "\n",
    "warnings.filterwarnings('ignore')\n",
    "sns.set_theme(style=\"white\")\n"
   ]
  },
  {
   "cell_type": "code",
   "execution_count": 5,
   "metadata": {},
   "outputs": [],
   "source": [
    "path = 'PAN/Data/'\n",
    "paths = [path +csv for csv in os.listdir(path)]\n",
    "CLEAN = [path for path in paths if 'CLN' in path]"
   ]
  },
  {
   "cell_type": "code",
   "execution_count": 29,
   "metadata": {},
   "outputs": [],
   "source": [
    "data = pd.read_csv(CLEAN[0])\n",
    "FEATS = list(data.columns[:9])\n",
    "FEATS.remove('i_qnt')\n",
    "LABELS = ['0.5','0.75']"
   ]
  },
  {
   "cell_type": "code",
   "execution_count": 15,
   "metadata": {},
   "outputs": [],
   "source": [
    "HALF = [path for path in CLEAN if \"_50_\" in path]\n",
    "SEVE = [path for path in CLEAN if \"_75_\" in path]\n",
    "NINE = [path for path in CLEAN if \"_90_\" in path]"
   ]
  },
  {
   "cell_type": "markdown",
   "metadata": {},
   "source": [
    "The next line will verify whether all the columns are in the same order across all DataFrames"
   ]
  },
  {
   "cell_type": "code",
   "execution_count": 26,
   "metadata": {},
   "outputs": [
    {
     "data": {
      "text/plain": [
       "True"
      ]
     },
     "execution_count": 26,
     "metadata": {},
     "output_type": "execute_result"
    }
   ],
   "source": [
    "FEATS_TABLE = pd.read_csv(HALF[0])[FEATS]\n",
    "\n",
    "flag = True\n",
    "for path in CLEAN:\n",
    "    data = pd.read_csv(path)[FEATS]\n",
    "    for i in range(data.shape[0]):\n",
    "        if not data.iloc[i].equals(FEATS_TABLE.iloc[i]): \n",
    "            flag = False\n",
    "flag"
   ]
  },
  {
   "cell_type": "code",
   "execution_count": 60,
   "metadata": {},
   "outputs": [],
   "source": [
    "path_50 = 'PAN/ALL/CLN_HLT_ALL_50_qnt.csv'\n",
    "\n",
    "if not path.exists(path_50):\n",
    "    \n",
    "    LABELS_HALF = [label for label in LABELS]*3\n",
    "    LABELS_HALF = [label+'_'+ds[-14:-11] for label,ds in zip(LABELS_HALF,HALF*3)]\n",
    "    \n",
    "    CLN_HLT_ALL_50_qnt = pd.DataFrame(columns=FEATS+LABELS_HALF)\n",
    "    TTI_50 = pd.read_csv(HALF[0])\n",
    "    TTO_50 = pd.read_csv(HALF[1])\n",
    "    WOP_50 = pd.read_csv(HALF[2])\n",
    "    \n",
    "    for i in range(TTI_50.shape[0]):\n",
    "        FEATS_ = {feat:value for feat,value in zip(FEATS, TTI_50[FEATS].iloc[i])}\n",
    "        LABELS_ = {}\n",
    "        for label in LABELS_HALF:\n",
    "            if \"TTI\" in label:\n",
    "                LABELS_[label] = TTI_50[label[:-4]].iloc[i]\n",
    "            elif \"TTO\" in label:\n",
    "                LABELS_[label] = TTO_50[label[:-4]].iloc[i]\n",
    "            elif \"WOP\" in label:\n",
    "                LABELS_[label] = WOP_50[label[:-4]].iloc[i]\n",
    "\n",
    "        FEATS_.update(LABELS_)\n",
    "        CLN_HLT_ALL_50_qnt.loc[i] = FEATS_\n",
    "\n",
    "\n",
    "    CLN_HLT_ALL_50_qnt.to_csv(path)"
   ]
  },
  {
   "cell_type": "code",
   "execution_count": 71,
   "metadata": {},
   "outputs": [],
   "source": [
    "path_50 = 'PAN/ALL/CLN_HLT_ALL_50_qnt.csv'\n",
    "CLN_HLT_ALL_50_qnt.to_csv(path_50)\n",
    "#path.exists(path_50)"
   ]
  },
  {
   "cell_type": "code",
   "execution_count": 43,
   "metadata": {},
   "outputs": [
    {
     "data": {
      "text/plain": [
       "['PAN/Data/CLN_HLT_TTI_50_qnt.csv',\n",
       " 'PAN/Data/CLN_HLT_TTO_75_qnt.csv',\n",
       " 'PAN/Data/CLN_HLT_TTI_90_qnt.csv',\n",
       " 'PAN/Data/CLN_HLT_TTO_90_qnt.csv',\n",
       " 'PAN/Data/CLN_HLT_WOP_75_qnt.csv',\n",
       " 'PAN/Data/CLN_HLT_TTI_75_qnt.csv',\n",
       " 'PAN/Data/CLN_HLT_TTO_50_qnt.csv',\n",
       " 'PAN/Data/CLN_HLT_WOP_90_qnt.csv',\n",
       " 'PAN/Data/CLN_HLT_WOP_50_qnt.csv']"
      ]
     },
     "execution_count": 43,
     "metadata": {},
     "output_type": "execute_result"
    }
   ],
   "source": [
    "CLEAN"
   ]
  }
 ],
 "metadata": {
  "kernelspec": {
   "display_name": "Python 3",
   "language": "python",
   "name": "python3"
  },
  "language_info": {
   "codemirror_mode": {
    "name": "ipython",
    "version": 3
   },
   "file_extension": ".py",
   "mimetype": "text/x-python",
   "name": "python",
   "nbconvert_exporter": "python",
   "pygments_lexer": "ipython3",
   "version": "3.8.6"
  }
 },
 "nbformat": 4,
 "nbformat_minor": 4
}
