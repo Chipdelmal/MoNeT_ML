{
 "cells": [
  {
   "cell_type": "code",
   "execution_count": 4,
   "metadata": {},
   "outputs": [],
   "source": [
    "import os\n",
    "import pandas as pd\n",
    "import seaborn as sns\n",
    "import warnings\n",
    "import matplotlib.pyplot as plt\n",
    "\n",
    "warnings.filterwarnings('ignore')\n",
    "sns.set_theme(style=\"white\")\n"
   ]
  },
  {
   "cell_type": "code",
   "execution_count": 5,
   "metadata": {},
   "outputs": [],
   "source": [
    "path = 'PAN/Data/'\n",
    "paths = [path +csv for csv in os.listdir(path)]\n",
    "CLEAN = [path for path in paths if 'CLN' in path]"
   ]
  },
  {
   "cell_type": "code",
   "execution_count": 29,
   "metadata": {},
   "outputs": [],
   "source": [
    "data = pd.read_csv(CLEAN[0])\n",
    "FEATS = list(data.columns[:9])\n",
    "FEATS.remove('i_qnt')\n",
    "LABELS = ['0.5','0.75']"
   ]
  },
  {
   "cell_type": "code",
   "execution_count": 15,
   "metadata": {},
   "outputs": [],
   "source": [
    "HALF = [path for path in CLEAN if \"_50_\" in path]\n",
    "SEVE = [path for path in CLEAN if \"_75_\" in path]\n",
    "NINE = [path for path in CLEAN if \"_90_\" in path]"
   ]
  },
  {
   "cell_type": "markdown",
   "metadata": {},
   "source": [
    "The next line will verify whether all the columns are in the same order across all DataFrames"
   ]
  },
  {
   "cell_type": "code",
   "execution_count": 26,
   "metadata": {},
   "outputs": [
    {
     "data": {
      "text/plain": [
       "True"
      ]
     },
     "execution_count": 26,
     "metadata": {},
     "output_type": "execute_result"
    }
   ],
   "source": [
    "FEATS_TABLE = pd.read_csv(HALF[0])[FEATS]\n",
    "\n",
    "flag = True\n",
    "for path in CLEAN:\n",
    "    data = pd.read_csv(path)[FEATS]\n",
    "    for i in range(data.shape[0]):\n",
    "        if not data.iloc[i].equals(FEATS_TABLE.iloc[i]): \n",
    "            flag = False\n",
    "flag"
   ]
  },
  {
   "cell_type": "code",
   "execution_count": 37,
   "metadata": {},
   "outputs": [],
   "source": [
    "LABELS_HALF = [label for label in LABELS]*3\n",
    "LABELS_HALF = [label+'_'+ds[-14:-11] for label,ds in zip(LABELS_HALF,HALF*3)]\n",
    "HALF_DF = pd.DataFrame(columns=FEATS+LABELS_HALF)\n",
    "for "
   ]
  },
  {
   "cell_type": "code",
   "execution_count": 38,
   "metadata": {},
   "outputs": [
    {
     "data": {
      "text/plain": [
       "['0.5_TTI', '0.75_TTO', '0.5_WOP', '0.75_TTI', '0.5_TTO', '0.75_WOP']"
      ]
     },
     "execution_count": 38,
     "metadata": {},
     "output_type": "execute_result"
    }
   ],
   "source": []
  },
  {
   "cell_type": "code",
   "execution_count": null,
   "metadata": {},
   "outputs": [],
   "source": []
  }
 ],
 "metadata": {
  "kernelspec": {
   "display_name": "Python 3",
   "language": "python",
   "name": "python3"
  },
  "language_info": {
   "codemirror_mode": {
    "name": "ipython",
    "version": 3
   },
   "file_extension": ".py",
   "mimetype": "text/x-python",
   "name": "python",
   "nbconvert_exporter": "python",
   "pygments_lexer": "ipython3",
   "version": "3.8.6"
  }
 },
 "nbformat": 4,
 "nbformat_minor": 4
}
