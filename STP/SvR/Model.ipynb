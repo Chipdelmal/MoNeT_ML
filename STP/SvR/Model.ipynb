{
 "cells": [
  {
   "cell_type": "code",
   "execution_count": 178,
   "metadata": {},
   "outputs": [],
   "source": [
    "import os\n",
    "from joblib import dump, load\n",
    "\n",
    "import pandas as pd\n",
    "import seaborn as sns\n",
    "\n",
    "from sklearn.preprocessing import  OneHotEncoder\n",
    "from sklearn.model_selection import train_test_split\n",
    "from sklearn.neural_network import MLPClassifier\n",
    "from sklearn.multioutput import MultiOutputClassifier\n",
    "from sklearn.neighbors import KNeighborsClassifier\n",
    "from sklearn.metrics import accuracy_score,f1_score,recall_score,precision_score\n",
    "\n",
    "\n"
   ]
  },
  {
   "cell_type": "code",
   "execution_count": 179,
   "metadata": {},
   "outputs": [],
   "source": [
    "path = 'PAN/Data/'\n",
    "paths = [path +csv for csv in os.listdir(path)]\n",
    "CLEAN = [path for path in paths if 'CLN' in path]"
   ]
  },
  {
   "cell_type": "markdown",
   "metadata": {},
   "source": [
    "Tables structure:"
   ]
  },
  {
   "cell_type": "code",
   "execution_count": 181,
   "metadata": {},
   "outputs": [],
   "source": [
    "def make_labels_(TTI,TTO,WOP,columns):\n",
    "    pass"
   ]
  },
  {
   "cell_type": "code",
   "execution_count": 182,
   "metadata": {},
   "outputs": [],
   "source": [
    "data = pd.read_csv(CLEAN[0])\n",
    "\n",
    "FEATS = list(data.columns[:9])\n",
    "FEATS.remove('i_qnt')\n",
    "LABELS = data.columns[9:]"
   ]
  },
  {
   "cell_type": "code",
   "execution_count": 186,
   "metadata": {},
   "outputs": [],
   "source": [
    "ohe = OneHotEncoder()\n",
    "ohe_vector = ohe.fit_transform(data[LABELS]).toarray()\n",
    "\n",
    "X_train, X_test, y_train, y_test = train_test_split(data[FEATS], ohe_vector)\n",
    "#X_train, X_test, y_train, y_test = train_test_split(data[FEATS], data[LABELS])"
   ]
  },
  {
   "cell_type": "code",
   "execution_count": 187,
   "metadata": {},
   "outputs": [
    {
     "name": "stderr",
     "output_type": "stream",
     "text": [
      "/home/oswald/.local/lib/python3.8/site-packages/sklearn/neural_network/_multilayer_perceptron.py:500: ConvergenceWarning: lbfgs failed to converge (status=1):\n",
      "STOP: TOTAL NO. of ITERATIONS REACHED LIMIT.\n",
      "\n",
      "Increase the number of iterations (max_iter) or scale the data as shown in:\n",
      "    https://scikit-learn.org/stable/modules/preprocessing.html\n",
      "  self.n_iter_ = _check_optimize_result(\"lbfgs\", opt_res, self.max_iter)\n"
     ]
    },
    {
     "name": "stdout",
     "output_type": "stream",
     "text": [
      "********** \n",
      "NEURAL NETWORK SCORES\n",
      " **********\n",
      "ACCURACY  : 0.9230371900826446\n",
      "F1 SCORE  : 0.992712839166339\n",
      "RECALL    : 0.9919327111984283\n",
      "PRECISION : 0.9934941951987406\n",
      "\n"
     ]
    }
   ],
   "source": [
    "#######################################\n",
    "########### NEURAL NETWORK ############\n",
    "#######################################\n",
    "\n",
    "clf = MLPClassifier(activation='logistic',solver='lbfgs',max_iter=10000)\n",
    "clf.fit(X_train,y_train)\n",
    "\n",
    "y_pred = clf.predict(X_test)\n",
    "print('*'*10,'\\nNEURAL NETWORK SCORES\\n','*'*10)\n",
    "ac = accuracy_score(y_pred,y_test)\n",
    "f1 = f1_score(y_pred,y_test,average='micro')\n",
    "rec = recall_score(y_pred,y_test,average='micro')\n",
    "prec = precision_score(y_pred,y_test,average='micro')\n",
    "\n",
    "print(f'ACCURACY  : {ac}\\nF1 SCORE  : {f1}\\nRECALL    : {rec}\\nPRECISION : {prec}\\n')"
   ]
  },
  {
   "cell_type": "code",
   "execution_count": 188,
   "metadata": {},
   "outputs": [
    {
     "name": "stdout",
     "output_type": "stream",
     "text": [
      "********** \n",
      "KNN  SCORES\n",
      " **********\n",
      "ACCURACY  : 0.9914772727272727\n",
      "F1 SCORE  : 0.9989176024895143\n",
      "RECALL    : 0.9990527740189445\n",
      "PRECISION : 0.9987824675324676\n",
      "\n"
     ]
    }
   ],
   "source": [
    "#########################################\n",
    "########## KNN CLASSIFIER ###############\n",
    "#########################################\n",
    "\n",
    "clf = KNeighborsClassifier(n_neighbors=8, algorithm='ball_tree')\n",
    "m_clf = MultiOutputClassifier(clf,n_jobs=-1).fit(X_train, y_train)\n",
    "\n",
    "y_pred = m_clf.predict(X_test)\n",
    "print('*'*10,'\\nKNN  SCORES\\n','*'*10)\n",
    "ac = accuracy_score(y_pred,y_test)\n",
    "f1 = f1_score(y_pred,y_test,average='micro')\n",
    "rec = recall_score(y_pred,y_test,average='micro')\n",
    "prec = precision_score(y_pred,y_test,average='micro')\n",
    "\n",
    "print(f'ACCURACY  : {ac}\\nF1 SCORE  : {f1}\\nRECALL    : {rec}\\nPRECISION : {prec}\\n')"
   ]
  },
  {
   "cell_type": "code",
   "execution_count": 189,
   "metadata": {},
   "outputs": [],
   "source": [
    "\n"
   ]
  }
 ],
 "metadata": {
  "kernelspec": {
   "display_name": "Python 3",
   "language": "python",
   "name": "python3"
  },
  "language_info": {
   "codemirror_mode": {
    "name": "ipython",
    "version": 3
   },
   "file_extension": ".py",
   "mimetype": "text/x-python",
   "name": "python",
   "nbconvert_exporter": "python",
   "pygments_lexer": "ipython3",
   "version": "3.8.6"
  }
 },
 "nbformat": 4,
 "nbformat_minor": 4
}
