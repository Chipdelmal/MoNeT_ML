{
 "cells": [
  {
   "cell_type": "code",
   "execution_count": 1,
   "id": "f8a02dc7",
   "metadata": {},
   "outputs": [
    {
     "name": "stderr",
     "output_type": "stream",
     "text": [
      "2023-09-26 07:39:27.813430: I tensorflow/core/platform/cpu_feature_guard.cc:182] This TensorFlow binary is optimized to use available CPU instructions in performance-critical operations.\n",
      "To enable the following instructions: AVX2 AVX512F AVX512_VNNI FMA, in other operations, rebuild TensorFlow with the appropriate compiler flags.\n"
     ]
    }
   ],
   "source": [
    "from os import path\n",
    "import numpy as np\n",
    "import pandas as pd\n",
    "import matplotlib.pyplot as plt\n",
    "import pickle\n",
    "from SALib.analyze import delta, pawn, rbd_fast, hdmr\n",
    "from SALib.sample import latin\n",
    "import MoNeT_MGDrivE as monet\n",
    "from collections import OrderedDict\n",
    "import compress_pickle as pkl\n",
    "from datetime import datetime\n",
    "from matplotlib.colors import LinearSegmentedColormap, ColorConverter\n",
    "from tensorflow import keras\n",
    "from os import path\n",
    "from keras.models import load_model\n",
    "import compress_pickle as pkl\n",
    "import constants as cst\n",
    "from itertools import product\n",
    "import shap\n",
    "from sklearn.model_selection import train_test_split\n",
    "from sklearn.inspection import permutation_importance\n",
    "from sklearn.metrics import make_scorer\n",
    "from sklearn.metrics import mean_absolute_error, mean_squared_error\n",
    "from timeit import default_timer as timer\n",
    "from sklearn.inspection import PartialDependenceDisplay"
   ]
  },
  {
   "cell_type": "markdown",
   "id": "f2fcfe74",
   "metadata": {},
   "source": [
    "## MoNeT_DA/PAN/PGS/PGS_gene_FMS5.py"
   ]
  },
  {
   "cell_type": "code",
   "execution_count": 2,
   "id": "4d09261c",
   "metadata": {},
   "outputs": [],
   "source": [
    "###############################################################################\n",
    "genotypes = (\n",
    "    \"AABBCCDD\", \"aABBCCDD\", \"AAbBCCDD\", \"aAbBCCDD\", \"AABBcCDD\", \"aABBcCDD\", \n",
    "    \"AAbBcCDD\", \"aAbBcCDD\", \"AABBCCdD\", \"aABBCCdD\", \"AAbBCCdD\", \"aAbBCCdD\", \n",
    "    \"AABBcCdD\", \"aABBcCdD\", \"AAbBcCdD\", \"aAbBcCdD\", \"aaBBCCDD\", \"aabBCCDD\", \n",
    "    \"aaBBcCDD\", \"aabBcCDD\", \"aaBBCCdD\", \"aabBCCdD\", \"aaBBcCdD\", \"aabBcCdD\", \n",
    "    \"AAbbCCDD\", \"aAbbCCDD\", \"AAbbcCDD\", \"aAbbcCDD\", \"AAbbCCdD\", \"aAbbCCdD\", \n",
    "    \"AAbbcCdD\", \"aAbbcCdD\", \"aabbCCDD\", \"aabbcCDD\", \"aabbCCdD\", \"aabbcCdD\",\n",
    "    \"AABBccDD\", \"aABBccDD\", \"AAbBccDD\", \"aAbBccDD\", \"AABBccdD\", \"aABBccdD\", \n",
    "    \"AAbBccdD\", \"aAbBccdD\", \"aaBBccDD\", \"aabBccDD\", \"aaBBccdD\", \"aabBccdD\", \n",
    "    \"AAbbccDD\", \"aAbbccDD\", \"AAbbccdD\", \"aAbbccdD\", \"aabbccDD\", \"aabbccdD\", \n",
    "    \"AABBCCdd\", \"aABBCCdd\", \"AAbBCCdd\", \"aAbBCCdd\", \"AABBcCdd\", \"aABBcCdd\", \n",
    "    \"AAbBcCdd\", \"aAbBcCdd\", \"aaBBCCdd\", \"aabBCCdd\", \"aaBBcCdd\", \"aabBcCdd\", \n",
    "    \"AAbbCCdd\", \"aAbbCCdd\", \"AAbbcCdd\", \"aAbbcCdd\", \"aabbCCdd\", \"aabbcCdd\", \n",
    "    \"AABBccdd\", \"aABBccdd\", \"AAbBccdd\", \"aAbBccdd\", \"aaBBccdd\", \"aabBccdd\", \n",
    "    \"AAbbccdd\", \"aAbbccdd\", \"aabbccdd\"\n",
    ")\n",
    "(locA, locB, locC, locD) = ((0, 1), (2, 3), (4, 5), (6, 7))\n",
    "\n",
    "###############################################################################\n",
    "# Health genotype counts (gRNA)\n",
    "###############################################################################\n",
    "HLT_DICT = OrderedDict((\n",
    "    ('T*',   (('A', locA), ('B', locB), ('C', locC), ('D', locD))),\n",
    "    ('O-',   (('a', locA), ('b', locB), ('c', locC), ('d', locD)))\n",
    "))\n",
    "\n",
    "PGS_HLT = monet.carrierFrequencies(HLT_DICT, genotypes)\n",
    "PGS_HLT = [PGS_HLT[0], [PGS_HLT[1][0], PGS_HLT[1][-1], PGS_HLT[1][-1]]]\n",
    "\n",
    "###############################################################################\n",
    "# Drive Selector\n",
    "###############################################################################\n",
    "def driveParameters(TYPE, popSize):\n",
    "    if TYPE == 'ECO':\n",
    "        aggD = monet.generateAggregationDictionary(*PGS_ECO)\n",
    "        yRange = popSize*4\n",
    "    elif TYPE == 'HLT':\n",
    "        aggD = monet.generateAggregationDictionary(*PGS_HLT)\n",
    "        yRange = popSize\n",
    "    elif TYPE == 'TRS':\n",
    "        aggD = monet.generateAggregationDictionary(*PGS_TRS)\n",
    "        yRange = popSize/2\n",
    "    elif TYPE == 'WLD':\n",
    "        aggD = monet.generateAggregationDictionary(*PGS_WLD)\n",
    "        yRange = popSize/2\n",
    "    return (aggD, yRange, 'pgSIT')"
   ]
  },
  {
   "cell_type": "markdown",
   "id": "02299269",
   "metadata": {},
   "source": [
    "## MoNeT_DA/PAN/PGS/PGS_gene.py"
   ]
  },
  {
   "cell_type": "code",
   "execution_count": 3,
   "id": "1868ffde",
   "metadata": {},
   "outputs": [],
   "source": [
    "import MoNeT_MGDrivE as monet\n",
    "\n",
    "###############################################################################\n",
    "# Drive\n",
    "###############################################################################\n",
    "def driveSelector(DRIVE, TYPE, popSize=(100*12000)):\n",
    "    ###########################################################################\n",
    "    if (DRIVE == 'FMS3'):\n",
    "        (aggD, yRange, folder) = FMS3.driveParameters(TYPE, popSize)\n",
    "    elif (DRIVE == 'FMS4'):\n",
    "        (aggD, yRange, folder) = FMS4.driveParameters(TYPE, popSize)\n",
    "    elif (DRIVE == 'FMS5'):\n",
    "        (aggD, yRange, folder) = FMS5.driveParameters(TYPE, popSize)\n",
    "    elif (DRIVE == 'PGS'):\n",
    "        (aggD, yRange, folder) = driveParameters(TYPE, popSize)\n",
    "    elif (DRIVE == 'IIT'):\n",
    "        (aggD, yRange, folder) = IIT.driveParameters(TYPE, popSize)\n",
    "    elif (DRIVE == 'RDL'):\n",
    "        (aggD, yRange, folder) = RDL.driveParameters(TYPE, popSize)\n",
    "    elif (DRIVE == 'RDF'):\n",
    "        (aggD, yRange, folder) = RDF.driveParameters(TYPE, popSize)\n",
    "    else:\n",
    "        print(\"Error in gene drive ID\")\n",
    "    ###########################################################################\n",
    "    if TYPE == 'ECO':\n",
    "        colors = [\n",
    "            '#2614ed55', '#FF006E55', '#45d40c55', '#8338EC55', '#1888e355', \n",
    "            '#BC109755', '#FFE93E55', '#3b479d55', '#540d6e55', '#7bdff255'\n",
    "        ]\n",
    "    elif TYPE == 'HLT':\n",
    "        if DRIVE == 'FMS3':\n",
    "            colors = ['#1888e300', '#2614ed00', '#f2008935']\n",
    "        elif DRIVE == 'FMS4':\n",
    "            colors = ['#1888e300', '#2614ed00', '#3b479d35']\n",
    "        elif DRIVE == 'FMS5':\n",
    "            colors = ['#1888e300', '#2614ed00', '#45d40c35']\n",
    "        elif DRIVE == 'PGS':\n",
    "            colors = ['#1888e335', '#2614ed35', '#8338EC35']\n",
    "        elif DRIVE == 'IIT':\n",
    "            colors = ['#f2008900', '#c879ff00', '#540d6e35']\n",
    "        elif DRIVE == 'RDL':\n",
    "            colors = ['#f2008900', '#c879ff00', '#bbdefb35']\n",
    "        elif DRIVE == 'RDF':\n",
    "            colors = ['#f2008900', '#c879ff00', '#1888e335']\n",
    "        else:\n",
    "            colors = ['#f2008955', '#c879ff55', '#c879ff35']\n",
    "    elif TYPE == 'TRS':\n",
    "        colors = monet.COLTN\n",
    "    elif TYPE == 'WLD':\n",
    "        colors = monet.COLWN\n",
    "    elif TYPE == 'HUM':\n",
    "        colors = ['#274c7700', '#c879ff99', '#dee2ff55']\n",
    "    elif TYPE == 'INC':\n",
    "        colors = ['#8CD9FF00', '#bbdefb55', '#dee2ff00']\n",
    "    ###########################################################################\n",
    "    geneDict = {\n",
    "        'gDict': aggD, 'yRange': yRange, 'colors': colors, 'folder': folder\n",
    "    }\n",
    "    return geneDict\n",
    "\n",
    "def maleFemaleSelector(AOI):\n",
    "    if (AOI == 'HLT') or (AOI == 'INC'):\n",
    "        MF = (False, True)\n",
    "    elif (AOI == 'HUM'):\n",
    "        MF = (False, True)\n",
    "    else:\n",
    "        MF = (True, True)\n",
    "    return MF\n",
    "\n",
    "def colorSelector(AOI):\n",
    "    if AOI == 'ECO':\n",
    "        colors = monet.COLEO\n",
    "    elif AOI == 'HLT':\n",
    "        colors = monet.COLHO\n",
    "    elif AOI == 'TRS':\n",
    "        colors = monet.COLTO\n",
    "    elif AOI == 'WLD':\n",
    "        colors = monet.COLWO\n",
    "    return colors"
   ]
  },
  {
   "cell_type": "markdown",
   "id": "4c274aea",
   "metadata": {},
   "source": [
    "## MoNeT_DA/PAN/PGS/PGS_aux.py"
   ]
  },
  {
   "cell_type": "code",
   "execution_count": 4,
   "id": "45afcf06",
   "metadata": {},
   "outputs": [],
   "source": [
    "if monet.isNotebook():\n",
    "    (USR, DRV, QNT, AOI, THS, MOI) = ('dsk', 'PGS', '50', 'HLT', '0.1', 'CPT')\n",
    "else:\n",
    "    (USR, DRV, QNT, AOI, THS, MOI) = sys.argv[1:]\n",
    "QNT = (None if QNT == 'None' else QNT)\n",
    "MOD_SEL = 'mlp'"
   ]
  },
  {
   "cell_type": "code",
   "execution_count": 5,
   "id": "01dfac65",
   "metadata": {},
   "outputs": [],
   "source": [
    "XP_ID = 'PGS'\n",
    "###############################################################################\n",
    "# System Constants\n",
    "###############################################################################\n",
    "(OVW, JOB_DSK, JOB_SRV) = (True, 4, 32)\n",
    "(SUM, AGG, SPA, REP, SRP) = (True, False, False, False, True)\n",
    "###############################################################################\n",
    "# Releases and Populations\n",
    "###############################################################################\n",
    "(REL_START, RELEASES) = (50, [365+(7*i) for i in range(10)])\n",
    "(POP_SIZE, HUM_SIZE, INC_SIZE, XRAN, FZ) = (\n",
    "    5e3, 1e3, 1000*1.25,\n",
    "    (REL_START, 5*int(365)), \n",
    "    False\n",
    ")\n",
    "(STABLE_T, MLR, SAMP_RATE) = (0, False, 1)\n",
    "MAX_REPS = 80\n",
    "###############################################################################\n",
    "# Sensitivity Analysis\n",
    "###############################################################################\n",
    "\n",
    "SA_SAMPLES = 2**16\n",
    "SA_RANGES = (\n",
    "    ('ren', (1, 52)), \n",
    "    ('rer', (1, 50)), \n",
    "    ('rei', (1, 15)),\n",
    "    ('pct', (.5, 1)), \n",
    "    ('pmd', (.5, 1)), \n",
    "    ('mfr', (0, .5)), \n",
    "    ('mtf', (.5, 1)), \n",
    "    ('fvb', (0, .5))\n",
    ")"
   ]
  },
  {
   "cell_type": "code",
   "execution_count": 6,
   "id": "c5771f2e",
   "metadata": {},
   "outputs": [],
   "source": [
    "def landSelector():\n",
    "    PAN = ([0], )\n",
    "    return PAN\n",
    "\n",
    "###############################################################################\n",
    "# Paths\n",
    "###############################################################################\n",
    "def selectPath(USR, DRV=None):\n",
    "    if USR == 'srv':\n",
    "        PATH_ROOT = '/RAID5/marshallShare/pgSIT2/{}/'.format(DRV)\n",
    "    elif USR == 'dsk':\n",
    "        PATH_ROOT = '/Users/xingliyu/Desktop/Marshall_lab_summer23/WorkSims/pgSIT2/{}/'.format(DRV)\n",
    "    (PATH_IMG, PATH_DATA) = (\n",
    "        '{}img/'.format(PATH_ROOT), \n",
    "        '{}'.format(PATH_ROOT)\n",
    "    )\n",
    "    PATH_PRE = PATH_DATA + 'PREPROCESS/'\n",
    "    PATH_OUT = PATH_DATA + 'POSTPROCESS/'\n",
    "    PATH_MTR = PATH_DATA + 'SUMMARY/'\n",
    "    fldrList = [PATH_ROOT, PATH_IMG, PATH_DATA, PATH_PRE, PATH_OUT, PATH_MTR]\n",
    "    [monet.makeFolder(i) for i in fldrList]\n",
    "    return (PATH_ROOT, PATH_IMG, PATH_DATA, PATH_PRE, PATH_OUT, PATH_MTR)"
   ]
  },
  {
   "cell_type": "code",
   "execution_count": 7,
   "id": "8956b63b",
   "metadata": {},
   "outputs": [],
   "source": [
    "(XP_PTRN, NO_REL_PAT) = ('E_{}_{}_{}_{}_{}_{}_{}_{}-{}_{}_{}.{}', '00')\n",
    "(DATA_NAMES, DATA_PRE, DATA_PST) = (\n",
    "    ('TTI', 'TTO', 'WOP', 'RAP', 'MNX', 'CPT', 'CPT'),\n",
    "    ('ECO', 'HLT', 'TRS', 'WLD'), ('HLT', 'TRS', 'WLD')\n",
    ")\n",
    "# Data Analysis ---------------------------------------------------------------\n",
    "(DATA_HEAD, DATA_SCA, DATA_PAD, DATA_TYPE) = (\n",
    "    (\n",
    "        ('i_ren', 1), ('i_res', 2), ('i_rei', 3),\n",
    "        ('i_pct', 4), ('i_pmd', 5), \n",
    "        ('i_mfr', 6), ('i_mtf', 7), ('i_fvb', 8),\n",
    "        ('i_grp', 10)\n",
    "    ),\n",
    "    {\n",
    "        'i_ren': 1e0,  'i_res': 1e8, 'i_rei': 1e0,\n",
    "        'i_pct': 1e10, 'i_pmd': 1e10, \n",
    "        'i_mfr': 1e10, 'i_mtf': 1e10, 'i_fvb': 1e10,\n",
    "        'i_grp': 1e0\n",
    "    },\n",
    "    {\n",
    "        'i_ren': 4,  'i_res': 14, 'i_rei': 4,\n",
    "        'i_pct': 12, 'i_pmd': 12, \n",
    "        'i_mfr': 12, 'i_mtf': 12, 'i_fvb': 12,\n",
    "        'i_grp': 2\n",
    "    },\n",
    "    {\n",
    "        'i_ren': np.int8,   'i_res': np.double, 'i_rei': np.int8,\n",
    "        'i_pct': np.double, 'i_pmd': np.double, \n",
    "        'i_mfr': np.double, 'i_mtf': np.double, 'i_fvb': np.double,\n",
    "        'i_grp': np.int8\n",
    "    }\n",
    ")"
   ]
  },
  {
   "cell_type": "code",
   "execution_count": 8,
   "id": "7ac7e6d1",
   "metadata": {},
   "outputs": [],
   "source": [
    "###############################################################################\n",
    "# Dependent Variables for Heatmaps\n",
    "###############################################################################\n",
    "def colorPaletteFromHexList(clist):\n",
    "    c = ColorConverter().to_rgba\n",
    "    clrs = [c(i) for i in clist]\n",
    "    rvb = LinearSegmentedColormap.from_list(\"\", clrs)\n",
    "    return rvb\n",
    "\n",
    "\n",
    "def selectDepVars(MOI):\n",
    "    # Select ranges and dependent variable-------------------------------------\n",
    "    if (MOI == 'WOP') or (MOI == 'TTO'):\n",
    "        scalers = [1, 1, XRAN]\n",
    "        (HD_DEP, IND_RAN) = ('0.1', 7)\n",
    "    elif (MOI == 'TTI'):\n",
    "        scalers = [1, 1, XRAN]\n",
    "        (HD_DEP, IND_RAN) = ('0.1', 7)\n",
    "    elif (MOI == 'RAP'):\n",
    "        scalers = [1, 100, 90]\n",
    "        (HD_DEP, IND_RAN) = ('486', 7)\n",
    "    elif (MOI == 'MNX'):\n",
    "        scalers = [1, 100, 1]\n",
    "        (HD_DEP, IND_RAN) = ('min', 7)\n",
    "    elif (MOI == 'POE'):\n",
    "        scalers = [1, 100, 1]\n",
    "        (HD_DEP, IND_RAN) = ('POE', 1) \n",
    "    elif (MOI == 'CPT'):\n",
    "        scalers = [1, 100, 1]\n",
    "        (HD_DEP, IND_RAN) = ('CPT', 1) \n",
    "    elif (MOI == 'DER'):\n",
    "        scalers = [1, 100, 5]\n",
    "        (HD_DEP, IND_RAN) = ('DER', 5) \n",
    "    elif (MOI == 'MNF'):\n",
    "        scalers = [1, 1, 1]\n",
    "        (HD_DEP, IND_RAN) = ('MNF', 1) \n",
    "    # Color Mapping -----------------------------------------------------------\n",
    "    if MOI == 'WOP':\n",
    "        cmap = colorPaletteFromHexList(['#ffffff00', '#03045eAA'])\n",
    "    elif MOI == 'CPT':\n",
    "        cmap = colorPaletteFromHexList(['#ffffff00', '#3a86ffAA'])\n",
    "    elif MOI == 'POE':\n",
    "        cmap = colorPaletteFromHexList(['#ffffff00', '#8338ECAA'])\n",
    "    else:\n",
    "        cmap = colorPaletteFromHexList(['#ffffff00', '#3b479dAA'])\n",
    "    return (scalers, HD_DEP, IND_RAN, cmap)"
   ]
  },
  {
   "cell_type": "code",
   "execution_count": 9,
   "id": "47f76f2a",
   "metadata": {},
   "outputs": [],
   "source": [
    "def unison_shuffled_copies(a, b, size=1000):\n",
    "    assert len(a) == len(b)\n",
    "    p = np.random.permutation(len(a))\n",
    "    return a[p][:size], b[p][:size]"
   ]
  },
  {
   "cell_type": "code",
   "execution_count": 10,
   "id": "bb963538",
   "metadata": {},
   "outputs": [],
   "source": [
    "def selectColor(MOI):\n",
    "    if MOI=='CPT':\n",
    "        clr = '#3a86ff'\n",
    "    elif MOI=='POE':\n",
    "        clr = '#8338EC'\n",
    "    else:\n",
    "        clr = '#03045e'\n",
    "    return clr"
   ]
  },
  {
   "cell_type": "code",
   "execution_count": 11,
   "id": "8d8d4ea6",
   "metadata": {},
   "outputs": [],
   "source": [
    "def getSASortedDF(df, column, sortingLabels, normalized=True):\n",
    "    srtNames = [i.replace('i_', '') for i in sortingLabels]\n",
    "    srtNames = list(map(lambda x: x.replace('rer', 'res'), srtNames))\n",
    "    try:\n",
    "        # SA dataframes -------------------------------------------------------\n",
    "        names = list(df['names'])\n",
    "        names = list(map(lambda x: x.replace('rer', 'res'), names))\n",
    "    except:\n",
    "        # ML dataframes -------------------------------------------------------\n",
    "        names = list(df['Feature'])\n",
    "        names = [i.replace('i_', '') for i in names]\n",
    "    sortIx = [names.index(lbl) for lbl in srtNames]\n",
    "    # Calculate return --------------------------------------------------------\n",
    "    if normalized:\n",
    "        norms = df[column]/np.nansum(df[column])\n",
    "    else:\n",
    "        norms = df[column]\n",
    "    # Return sorted -----------------------------------------------------------\n",
    "    srtSA = [norms[ix] for ix in sortIx]\n",
    "    return srtSA"
   ]
  },
  {
   "cell_type": "markdown",
   "id": "f781e3a1",
   "metadata": {},
   "source": [
    "## MoNeT_DA/PAN/PGS/PGS_mlrHeatmap.py"
   ]
  },
  {
   "cell_type": "code",
   "execution_count": 12,
   "id": "21db612a",
   "metadata": {},
   "outputs": [
    {
     "name": "stdout",
     "output_type": "stream",
     "text": [
      "\u001b[37m\u001b[37m* [2023-09-26 07:39:36.255384] MoNeT PGS mlrHeatmap [HLT:0.1:CPT]\u001b[0m\n",
      "\u001b[91m* I: /Users/xingliyu/Desktop/Marshall_lab_summer23/WorkSims/pgSIT2/pgSIT/\u001b[0m\n",
      "\u001b[91m* O: /Users/xingliyu/Desktop/Marshall_lab_summer23/WorkSims/pgSIT2/pgSIT/ML\u001b[0m\n"
     ]
    }
   ],
   "source": [
    "# Setup number of threads -----------------------------------------------------\n",
    "JOB = JOB_DSK\n",
    "if USR == 'srv':\n",
    "    JOB = JOB_SRV\n",
    "CHUNKS = JOB\n",
    "# Params Scaling --------------------------------------------------------------\n",
    "(xSca, ySca) = ('linear', 'linear')\n",
    "TICKS_HIDE = True\n",
    "MAX_TIME = 365*2\n",
    "CLABEL_FONTSIZE = 0\n",
    "thsStr = str(int(float(THS)*100))\n",
    "###############################################################################\n",
    "# Paths\n",
    "###############################################################################\n",
    "(drive, land) = (\n",
    "    driveSelector(DRV, AOI, popSize=POP_SIZE),\n",
    "    landSelector()\n",
    ")\n",
    "(gene, fldr) = (drive.get('gDict'), drive.get('folder'))\n",
    "(PT_ROT, PT_IMG, PT_DTA, PT_PRE, PT_OUT, PT_MTR) = selectPath(USR, fldr)\n",
    "PT_OUT = path.join(PT_ROT, 'ML')\n",
    "PT_IMG = path.join(PT_OUT, 'img', 'heat')\n",
    "[monet.makeFolder(i) for i in [PT_OUT, PT_IMG]]\n",
    "PT_SUMS = path.join(PT_ROT, 'SUMMARY')\n",
    "# Time and head ---------------------------------------------------------------\n",
    "tS = datetime.now()\n",
    "monet.printExperimentHead(\n",
    "    PT_ROT, PT_OUT, tS, \n",
    "    '{} mlrHeatmap [{}:{}:{}]'.format(DRV, AOI, THS, MOI)\n",
    ")"
   ]
  },
  {
   "cell_type": "markdown",
   "id": "7ad6e324",
   "metadata": {},
   "source": [
    "## MoNeT_DA/PAN/PGM/PGS_mlrTrainML.py"
   ]
  },
  {
   "cell_type": "code",
   "execution_count": 13,
   "id": "7ffb08a0",
   "metadata": {},
   "outputs": [
    {
     "name": "stdout",
     "output_type": "stream",
     "text": [
      "yes\n"
     ]
    },
    {
     "name": "stderr",
     "output_type": "stream",
     "text": [
      "Trying to unpickle estimator MinMaxScaler from version 1.1.3 when using version 1.3.0. This might lead to breaking code or invalid results. Use at your own risk. For more info please refer to:\n",
      "https://scikit-learn.org/stable/model_persistence.html#security-maintainability-limitations\n",
      "Trying to unpickle estimator MLPRegressor from version 1.1.3 when using version 1.3.0. This might lead to breaking code or invalid results. Use at your own risk. For more info please refer to:\n",
      "https://scikit-learn.org/stable/model_persistence.html#security-maintainability-limitations\n",
      "Trying to unpickle estimator Pipeline from version 1.1.3 when using version 1.3.0. This might lead to breaking code or invalid results. Use at your own risk. For more info please refer to:\n",
      "https://scikit-learn.org/stable/model_persistence.html#security-maintainability-limitations\n"
     ]
    }
   ],
   "source": [
    "###############################################################################\n",
    "# Load Model\n",
    "###############################################################################\n",
    "if QNT:\n",
    "    fNameOut = '{}_{}Q_{}T_{}-{}-MLR'.format(\n",
    "        AOI, int(QNT), int(float(THS)*100), MOI, MOD_SEL\n",
    "    )\n",
    "else:\n",
    "    fNameOut = '{}_{}T_{}-{}-MLR'.format(AOI, int(float(THS)*100), MOI, MOD_SEL)\n",
    "# Check for Keras model -------------------------------------------------------\n",
    "if not (MOD_SEL == 'krs'):\n",
    "    rf = pkl.load(path.join(PT_OUT, fNameOut+'.pkl'))\n",
    "    print('yes')\n",
    "else:\n",
    "    rf = keras.models.load_model(path.join(PT_OUT, fNameOut))\n",
    "    print('no')"
   ]
  },
  {
   "cell_type": "code",
   "execution_count": 14,
   "id": "2a7fab28",
   "metadata": {},
   "outputs": [
    {
     "data": {
      "text/plain": [
       "'/Users/xingliyu/Desktop/Marshall_lab_summer23/WorkSims/pgSIT2/pgSIT/ML/HLT_50Q_10T_CPT-mlp-MLR.pkl'"
      ]
     },
     "execution_count": 14,
     "metadata": {},
     "output_type": "execute_result"
    }
   ],
   "source": [
    "path.join(PT_OUT, fNameOut+'.pkl')"
   ]
  },
  {
   "cell_type": "code",
   "execution_count": 15,
   "id": "aa1ce1cb",
   "metadata": {},
   "outputs": [
    {
     "name": "stdout",
     "output_type": "stream",
     "text": [
      "yes\n"
     ]
    }
   ],
   "source": [
    "###############################################################################\n",
    "# Read Dataframe\n",
    "###############################################################################\n",
    "if QNT:\n",
    "    fName = 'SCA_{}_{}Q_{}T.csv'.format(AOI, int(QNT), int(float(THS)*100))\n",
    "    print('yes')\n",
    "else:\n",
    "    fName = 'SCA_{}_{}T_MLR.csv'.format(AOI, int(float(THS)*100))\n",
    "    print('no')\n",
    "df = pd.read_csv(path.join(PT_OUT, fName))"
   ]
  },
  {
   "cell_type": "code",
   "execution_count": 16,
   "id": "ab073da0",
   "metadata": {},
   "outputs": [],
   "source": [
    "###############################################################################\n",
    "# Split I/O\n",
    "###############################################################################\n",
    "indVars = [i[0] for i in DATA_HEAD]\n",
    "indVarsLabel = [i[2:] for i in indVars][:-1]\n",
    "dfIn = df[indVars].drop('i_grp', axis=1)\n",
    "(X, y) = [np.array(i) for i in (dfIn, df[MOI])]\n",
    "if MOI=='WOP':\n",
    "    y = y/XRAN[1]\n",
    "elif MOI=='CPT':\n",
    "    y = 1-y\n",
    "(X_trainR, X_testR, y_train, y_test) = train_test_split(X, y, test_size=0.25)\n",
    "(X_train, X_test) = (X_trainR, X_testR)\n",
    "inDims = X_train.shape[1]\n",
    "###############################################################################\n",
    "# Select Model and Scores\n",
    "###############################################################################\n",
    "(K_SPLITS, T_SIZE) = (10, .25)\n",
    "scoring = [\n",
    "    'explained_variance', 'max_error',\n",
    "    'neg_mean_absolute_error', 'neg_root_mean_squared_error', 'r2'\n",
    "]"
   ]
  },
  {
   "cell_type": "code",
   "execution_count": 24,
   "id": "ff2e654f",
   "metadata": {},
   "outputs": [
    {
     "data": {
      "image/png": "[encoded data removed]",
      "text/plain": [
       "<Figure size 288x432 with 1 Axes>"
      ]
     },
     "metadata": {
      "needs_background": "light"
     },
     "output_type": "display_data"
    }
   ],
   "source": [
    "###############################################################################\n",
    "# Permutation Importance\n",
    "###############################################################################\n",
    "(X_trainS, y_trainS) = unison_shuffled_copies(\n",
    "    X_train, y_train, size=int(5e3)\n",
    ")\n",
    "# Permutation scikit ----------------------------------------------------------\n",
    "timers = {'start': timer()}\n",
    "\n",
    "perm_importance = permutation_importance(\n",
    "    rf, X_trainS, y_trainS, \n",
    "    scoring=make_scorer(mean_squared_error)\n",
    ")\n",
    "sorted_idx = perm_importance.importances_mean.argsort()\n",
    "pImp = perm_importance.importances_mean/sum(perm_importance.importances_mean)\n",
    "labZip = zip(perm_importance.importances_mean, indVars[:-1])\n",
    "labSort = [x for _, x in sorted(labZip)]\n",
    "\n",
    "timers['ISCI*'] = (timer()-timers['start'])\n",
    "\n",
    "# Perm figure -----------------------------------------------------------------\n",
    "clr = selectColor(MOI)\n",
    "(fig, ax) = plt.subplots(figsize=(4, 6))\n",
    "plt.barh(indVars[:-1][::-1], pImp[::-1], color=clr, alpha=0.8)\n",
    "ax.set_xlim(0, 1)\n",
    "plt.savefig(\n",
    "    path.join(PT_IMG, fNameOut+'_PERM.png'), \n",
    "    dpi=200, bbox_inches='tight', pad_inches=0, transparent=True\n",
    ")"
   ]
  },
  {
   "cell_type": "markdown",
   "id": "964bd136",
   "metadata": {},
   "source": [
    "## MoNeT_DA/PAN/PGM/PGS_mlrTrainMLKeras.py"
   ]
  },
  {
   "cell_type": "code",
   "execution_count": 25,
   "id": "743705a2",
   "metadata": {},
   "outputs": [
    {
     "name": "stderr",
     "output_type": "stream",
     "text": [
      "Using 200 background data samples could cause slower run times. Consider using shap.sample(data, K) or shap.kmeans(data, K) to summarize the background as K samples.\n"
     ]
    },
    {
     "data": {
      "application/vnd.jupyter.widget-view+json": {
       "model_id": "5e4b9423541e42a08d87bd141157912d",
       "version_major": 2,
       "version_minor": 0
      },
      "text/plain": [
       "  0%|          | 0/200 [00:00<?, ?it/s]"
      ]
     },
     "metadata": {},
     "output_type": "display_data"
    },
    {
     "name": "stderr",
     "output_type": "stream",
     "text": [
      "No data for colormapping provided via 'c'. Parameters 'vmin', 'vmax' will be ignored\n"
     ]
    },
    {
     "data": {
      "image/png": "[encoded data removed]",
      "text/plain": [
       "<Figure size 288x432 with 1 Axes>"
      ]
     },
     "metadata": {
      "needs_background": "light"
     },
     "output_type": "display_data"
    },
    {
     "data": {
      "image/png": "[encoded data removed]",
      "text/plain": [
       "<Figure size 576x338.4 with 2 Axes>"
      ]
     },
     "metadata": {
      "needs_background": "light"
     },
     "output_type": "display_data"
    }
   ],
   "source": [
    "###############################################################################\n",
    "# SHAP Importance\n",
    "###############################################################################\n",
    "(X_trainS, y_trainS) = unison_shuffled_copies(X_train, y_train, size=200)\n",
    "\n",
    "timers['start'] = timer()\n",
    "\n",
    "explainer = shap.KernelExplainer(rf.predict, X_trainS)\n",
    "shap_values = explainer.shap_values(X_trainS, approximate=True)\n",
    "shapVals = np.abs(shap_values).mean(0)\n",
    "sImp = shapVals/sum(shapVals)\n",
    "\n",
    "timers['SHAP*'] = (timer()-timers['start'])\n",
    "\n",
    "# SHAP figure -----------------------------------------------------------------\n",
    "clr = selectColor(MOI)\n",
    "(fig, ax) = plt.subplots(figsize=(4, 6))\n",
    "plt.barh(indVars[:-1][::-1], sImp[::-1], color=clr, alpha=0.8)\n",
    "ax.set_xlim(0, 1)\n",
    "plt.savefig(\n",
    "    path.join(PT_IMG, fNameOut+'_SHAP.png'), \n",
    "    dpi=200, bbox_inches='tight', pad_inches=0, transparent=False\n",
    ")\n",
    "(fig, ax) = plt.subplots(figsize=(4, 6))\n",
    "shap.summary_plot(\n",
    "    shap_values, X_trainS,\n",
    "    alpha=0.25, feature_names=indVars,\n",
    "    show=False\n",
    ")"
   ]
  },
  {
   "cell_type": "code",
   "execution_count": null,
   "id": "c4f551aa",
   "metadata": {},
   "outputs": [],
   "source": []
  },
  {
   "cell_type": "code",
   "execution_count": 26,
   "id": "362352b8",
   "metadata": {},
   "outputs": [
    {
     "data": {
      "text/plain": [
       "{'start': 15.998781493, 'ISCI*': 0.15078295100000005, 'SHAP*': 51.800902717}"
      ]
     },
     "execution_count": 26,
     "metadata": {},
     "output_type": "execute_result"
    }
   ],
   "source": [
    "timers"
   ]
  },
  {
   "cell_type": "code",
   "execution_count": 27,
   "id": "67ad7ffa",
   "metadata": {},
   "outputs": [],
   "source": [
    "###############################################################################\n",
    "# Dump Importances to Disk\n",
    "###############################################################################\n",
    "iVars = [i[0] for i in SA_RANGES]\n",
    "permSci = pd.DataFrame({\n",
    "    'names': iVars,\n",
    "    'mean': perm_importance['importances_mean'], \n",
    "    'std': perm_importance['importances_std']\n",
    "})\n",
    "shapImp = pd.DataFrame({'names': iVars, 'mean': shapVals})\n",
    "permSci.to_csv(path.join(PT_OUT, fNameOut+'_PMI-SCI.csv'), index=False)\n",
    "shapImp.to_csv(path.join(PT_OUT, fNameOut+'_SHP-SHP.csv'), index=False)"
   ]
  },
  {
   "cell_type": "markdown",
   "id": "2eef39f9",
   "metadata": {},
   "source": [
    "## MoNeT_DA/PAN/PGS/PGS_saPlotter.py"
   ]
  },
  {
   "cell_type": "code",
   "execution_count": 29,
   "id": "49624e40",
   "metadata": {},
   "outputs": [],
   "source": [
    "###############################################################################\n",
    "# Reading SA Exported files\n",
    "###############################################################################\n",
    "SA_NAMES = ['Delta', 'PAWN', 'HDMR', 'FAST']\n",
    "name = SA_NAMES[-1]\n",
    "resultsSA = {}\n",
    "for name in SA_NAMES:\n",
    "    fName = path.join(PT_MTR, f'SA-{AOI}_{MOI}-{name}-{QNT}_qnt.csv')\n",
    "    resultsSA[name] = pd.read_csv(fName)\n",
    "###############################################################################\n",
    "# Reading ML Exported files\n",
    "###############################################################################\n",
    "if QNT:\n",
    "    fNameOut = '{}_{}Q_{}T_{}-{}-MLR.png'.format(\n",
    "        AOI, int(QNT), int(float(THS)*100), MOI, 'mlp'\n",
    "    )\n",
    "else:\n",
    "    fNameOut = '{}_{}T_{}-mlp-MLR.png'.format(AOI, int(float(THS)*100), MOI)\n",
    "impSci = pd.read_csv(path.join(PT_OUT, fNameOut[:-4]+'_PMI-SCI.csv'))\n",
    "# impRfi = pd.read_csv(path.join(PT_OUT, fNameOut[:-4]+'_PMI-RFI.csv'))\n",
    "shpImp = pd.read_csv(path.join(PT_OUT, fNameOut[:-4]+'_SHP-SHP.csv'))\n",
    "###############################################################################\n",
    "# Selecting sensitivities\n",
    "###############################################################################\n",
    "delta = resultsSA['Delta'][['names', 'delta', 'S1']]\n",
    "pawn = resultsSA['PAWN'][['names', 'mean', 'median']]\n",
    "fast = resultsSA['FAST'][['names', 'S1']]\n",
    "hdmr = resultsSA['HDMR'].iloc[:len(SA_RANGES)][['names', 'S1']]\n",
    "isci = impSci[['names', 'mean']]\n",
    "# irfi = impRfi[['Feature', 'Importance']]\n",
    "shp = shpImp[['names', 'mean']]"
   ]
  },
  {
   "cell_type": "code",
   "execution_count": 30,
   "id": "ae277c83",
   "metadata": {},
   "outputs": [],
   "source": [
    "###############################################################################\n",
    "# Reshapping\n",
    "###############################################################################\n",
    "iVar = [i[0] for i in DATA_HEAD[:-1]]\n",
    "validFeat = [sal[0] for sal in SA_RANGES if (len(sal[1])>1)]\n",
    "# Assemble dataframe ---------------------------------------------------------\n",
    "df = pd.DataFrame([\n",
    "        ['Delta', *getSASortedDF(delta, 'S1', validFeat)], \n",
    "        ['PAWN',  *getSASortedDF(pawn, 'mean', validFeat)], \n",
    "        ['FAST',  *getSASortedDF(fast, 'S1', validFeat)], \n",
    "        ['HDMR',  *getSASortedDF(hdmr, 'S1', validFeat)], \n",
    "        ['ISCI*',  *getSASortedDF(isci, 'mean', validFeat)], \n",
    "        # ['IRFI',  *aux.getSASortedDF(irfi, 'Importance', validFeat)], \n",
    "        ['SHAP*',  *getSASortedDF(shp, 'mean', validFeat)], \n",
    "    ],\n",
    "    columns=['name']+validFeat\n",
    ")\n",
    "dfT = df.transpose()\n",
    "new_header = dfT.iloc[0]\n",
    "dfT = dfT[1:]\n",
    "dfT.columns = new_header\n",
    "dfT = dfT.reset_index()\n",
    "# dfT.sort_values('Delta', ascending=True, inplace=True)"
   ]
  },
  {
   "cell_type": "code",
   "execution_count": 32,
   "id": "426c3041",
   "metadata": {},
   "outputs": [
    {
     "data": {
      "text/html": [
       "<div>\n",
       "<style scoped>\n",
       "    .dataframe tbody tr th:only-of-type {\n",
       "        vertical-align: middle;\n",
       "    }\n",
       "\n",
       "    .dataframe tbody tr th {\n",
       "        vertical-align: top;\n",
       "    }\n",
       "\n",
       "    .dataframe thead th {\n",
       "        text-align: right;\n",
       "    }\n",
       "</style>\n",
       "<table border=\"1\" class=\"dataframe\">\n",
       "  <thead>\n",
       "    <tr style=\"text-align: right;\">\n",
       "      <th></th>\n",
       "      <th>name</th>\n",
       "      <th>ren</th>\n",
       "      <th>rer</th>\n",
       "      <th>rei</th>\n",
       "      <th>pct</th>\n",
       "      <th>pmd</th>\n",
       "      <th>mfr</th>\n",
       "      <th>mtf</th>\n",
       "      <th>fvb</th>\n",
       "    </tr>\n",
       "  </thead>\n",
       "  <tbody>\n",
       "    <tr>\n",
       "      <th>0</th>\n",
       "      <td>Delta</td>\n",
       "      <td>0.703311</td>\n",
       "      <td>0.108150</td>\n",
       "      <td>0.154075</td>\n",
       "      <td>0.000926</td>\n",
       "      <td>0.003242</td>\n",
       "      <td>0.005920</td>\n",
       "      <td>0.005551</td>\n",
       "      <td>0.018826</td>\n",
       "    </tr>\n",
       "    <tr>\n",
       "      <th>1</th>\n",
       "      <td>PAWN</td>\n",
       "      <td>0.417827</td>\n",
       "      <td>0.110510</td>\n",
       "      <td>0.152142</td>\n",
       "      <td>0.011539</td>\n",
       "      <td>0.024969</td>\n",
       "      <td>0.071891</td>\n",
       "      <td>0.034725</td>\n",
       "      <td>0.176398</td>\n",
       "    </tr>\n",
       "    <tr>\n",
       "      <th>2</th>\n",
       "      <td>FAST</td>\n",
       "      <td>0.707157</td>\n",
       "      <td>0.108245</td>\n",
       "      <td>0.153859</td>\n",
       "      <td>-0.000024</td>\n",
       "      <td>0.002616</td>\n",
       "      <td>0.005327</td>\n",
       "      <td>0.004724</td>\n",
       "      <td>0.018097</td>\n",
       "    </tr>\n",
       "    <tr>\n",
       "      <th>3</th>\n",
       "      <td>HDMR</td>\n",
       "      <td>0.611346</td>\n",
       "      <td>0.124110</td>\n",
       "      <td>0.186872</td>\n",
       "      <td>0.001031</td>\n",
       "      <td>0.003881</td>\n",
       "      <td>0.016639</td>\n",
       "      <td>0.006591</td>\n",
       "      <td>0.049529</td>\n",
       "    </tr>\n",
       "    <tr>\n",
       "      <th>4</th>\n",
       "      <td>ISCI*</td>\n",
       "      <td>0.526717</td>\n",
       "      <td>0.110252</td>\n",
       "      <td>0.205462</td>\n",
       "      <td>0.004992</td>\n",
       "      <td>0.009002</td>\n",
       "      <td>0.053478</td>\n",
       "      <td>0.019033</td>\n",
       "      <td>0.071064</td>\n",
       "    </tr>\n",
       "    <tr>\n",
       "      <th>5</th>\n",
       "      <td>SHAP*</td>\n",
       "      <td>0.468117</td>\n",
       "      <td>0.131915</td>\n",
       "      <td>0.166431</td>\n",
       "      <td>0.007635</td>\n",
       "      <td>0.032679</td>\n",
       "      <td>0.070756</td>\n",
       "      <td>0.033152</td>\n",
       "      <td>0.089316</td>\n",
       "    </tr>\n",
       "  </tbody>\n",
       "</table>\n",
       "</div>"
      ],
      "text/plain": [
       "    name       ren       rer       rei       pct       pmd       mfr  \\\n",
       "0  Delta  0.703311  0.108150  0.154075  0.000926  0.003242  0.005920   \n",
       "1   PAWN  0.417827  0.110510  0.152142  0.011539  0.024969  0.071891   \n",
       "2   FAST  0.707157  0.108245  0.153859 -0.000024  0.002616  0.005327   \n",
       "3   HDMR  0.611346  0.124110  0.186872  0.001031  0.003881  0.016639   \n",
       "4  ISCI*  0.526717  0.110252  0.205462  0.004992  0.009002  0.053478   \n",
       "5  SHAP*  0.468117  0.131915  0.166431  0.007635  0.032679  0.070756   \n",
       "\n",
       "        mtf       fvb  \n",
       "0  0.005551  0.018826  \n",
       "1  0.034725  0.176398  \n",
       "2  0.004724  0.018097  \n",
       "3  0.006591  0.049529  \n",
       "4  0.019033  0.071064  \n",
       "5  0.033152  0.089316  "
      ]
     },
     "execution_count": 32,
     "metadata": {},
     "output_type": "execute_result"
    }
   ],
   "source": [
    "df"
   ]
  },
  {
   "cell_type": "code",
   "execution_count": 31,
   "id": "f3a07013",
   "metadata": {},
   "outputs": [
    {
     "data": {
      "text/plain": [
       "{'ren': 0.5724124392484967,\n",
       " 'rer': 0.11553047003337576,\n",
       " 'rei': 0.1698066933086103,\n",
       " 'pct': 0.0043495385467699444,\n",
       " 'pmd': 0.012731366178828514,\n",
       " 'mfr': 0.03733513478108905,\n",
       " 'mtf': 0.017296043825358876,\n",
       " 'fvb': 0.07053831407747078}"
      ]
     },
     "execution_count": 31,
     "metadata": {},
     "output_type": "execute_result"
    }
   ],
   "source": [
    "means = df.mean().to_dict()\n",
    "means"
   ]
  },
  {
   "cell_type": "code",
   "execution_count": 33,
   "id": "402ae3ed",
   "metadata": {},
   "outputs": [
    {
     "data": {
      "text/html": [
       "<div>\n",
       "<style scoped>\n",
       "    .dataframe tbody tr th:only-of-type {\n",
       "        vertical-align: middle;\n",
       "    }\n",
       "\n",
       "    .dataframe tbody tr th {\n",
       "        vertical-align: top;\n",
       "    }\n",
       "\n",
       "    .dataframe thead th {\n",
       "        text-align: right;\n",
       "    }\n",
       "</style>\n",
       "<table border=\"1\" class=\"dataframe\">\n",
       "  <thead>\n",
       "    <tr style=\"text-align: right;\">\n",
       "      <th></th>\n",
       "      <th>name</th>\n",
       "      <th>ren</th>\n",
       "      <th>rer</th>\n",
       "      <th>rei</th>\n",
       "      <th>pct</th>\n",
       "      <th>pmd</th>\n",
       "      <th>mfr</th>\n",
       "      <th>mtf</th>\n",
       "      <th>fvb</th>\n",
       "    </tr>\n",
       "  </thead>\n",
       "  <tbody>\n",
       "    <tr>\n",
       "      <th>0</th>\n",
       "      <td>Delta</td>\n",
       "      <td>0.703311</td>\n",
       "      <td>0.108150</td>\n",
       "      <td>0.154075</td>\n",
       "      <td>0.000926</td>\n",
       "      <td>0.003242</td>\n",
       "      <td>0.005920</td>\n",
       "      <td>0.005551</td>\n",
       "      <td>0.018826</td>\n",
       "    </tr>\n",
       "    <tr>\n",
       "      <th>1</th>\n",
       "      <td>PAWN</td>\n",
       "      <td>0.417827</td>\n",
       "      <td>0.110510</td>\n",
       "      <td>0.152142</td>\n",
       "      <td>0.011539</td>\n",
       "      <td>0.024969</td>\n",
       "      <td>0.071891</td>\n",
       "      <td>0.034725</td>\n",
       "      <td>0.176398</td>\n",
       "    </tr>\n",
       "    <tr>\n",
       "      <th>2</th>\n",
       "      <td>FAST</td>\n",
       "      <td>0.707157</td>\n",
       "      <td>0.108245</td>\n",
       "      <td>0.153859</td>\n",
       "      <td>-0.000024</td>\n",
       "      <td>0.002616</td>\n",
       "      <td>0.005327</td>\n",
       "      <td>0.004724</td>\n",
       "      <td>0.018097</td>\n",
       "    </tr>\n",
       "    <tr>\n",
       "      <th>3</th>\n",
       "      <td>HDMR</td>\n",
       "      <td>0.611346</td>\n",
       "      <td>0.124110</td>\n",
       "      <td>0.186872</td>\n",
       "      <td>0.001031</td>\n",
       "      <td>0.003881</td>\n",
       "      <td>0.016639</td>\n",
       "      <td>0.006591</td>\n",
       "      <td>0.049529</td>\n",
       "    </tr>\n",
       "    <tr>\n",
       "      <th>4</th>\n",
       "      <td>ISCI*</td>\n",
       "      <td>0.526717</td>\n",
       "      <td>0.110252</td>\n",
       "      <td>0.205462</td>\n",
       "      <td>0.004992</td>\n",
       "      <td>0.009002</td>\n",
       "      <td>0.053478</td>\n",
       "      <td>0.019033</td>\n",
       "      <td>0.071064</td>\n",
       "    </tr>\n",
       "    <tr>\n",
       "      <th>5</th>\n",
       "      <td>SHAP*</td>\n",
       "      <td>0.468117</td>\n",
       "      <td>0.131915</td>\n",
       "      <td>0.166431</td>\n",
       "      <td>0.007635</td>\n",
       "      <td>0.032679</td>\n",
       "      <td>0.070756</td>\n",
       "      <td>0.033152</td>\n",
       "      <td>0.089316</td>\n",
       "    </tr>\n",
       "  </tbody>\n",
       "</table>\n",
       "</div>"
      ],
      "text/plain": [
       "    name       ren       rer       rei       pct       pmd       mfr  \\\n",
       "0  Delta  0.703311  0.108150  0.154075  0.000926  0.003242  0.005920   \n",
       "1   PAWN  0.417827  0.110510  0.152142  0.011539  0.024969  0.071891   \n",
       "2   FAST  0.707157  0.108245  0.153859 -0.000024  0.002616  0.005327   \n",
       "3   HDMR  0.611346  0.124110  0.186872  0.001031  0.003881  0.016639   \n",
       "4  ISCI*  0.526717  0.110252  0.205462  0.004992  0.009002  0.053478   \n",
       "5  SHAP*  0.468117  0.131915  0.166431  0.007635  0.032679  0.070756   \n",
       "\n",
       "        mtf       fvb  \n",
       "0  0.005551  0.018826  \n",
       "1  0.034725  0.176398  \n",
       "2  0.004724  0.018097  \n",
       "3  0.006591  0.049529  \n",
       "4  0.019033  0.071064  \n",
       "5  0.033152  0.089316  "
      ]
     },
     "execution_count": 33,
     "metadata": {},
     "output_type": "execute_result"
    }
   ],
   "source": [
    "df_mean = df.copy()\n",
    "\n",
    "for col_name in df_mean:\n",
    "    if col_name != 'name':\n",
    "        df_mean[col_name] = df_mean[col_name] - means[col_name]"
   ]
  },
  {
   "cell_type": "code",
   "execution_count": 35,
   "id": "de12beb3",
   "metadata": {},
   "outputs": [],
   "source": [
    "df_meanT = df_mean.transpose()\n",
    "new_mean_header = df_meanT.iloc[0]\n",
    "df_meanT = df_meanT[1:]\n",
    "df_meanT.columns = new_mean_header\n",
    "df_meanT = df_meanT.reset_index()"
   ]
  },
  {
   "cell_type": "code",
   "execution_count": null,
   "id": "c841d320",
   "metadata": {},
   "outputs": [],
   "source": []
  },
  {
   "cell_type": "markdown",
   "id": "0d209cf3",
   "metadata": {},
   "source": [
    "### Plot on the poster"
   ]
  },
  {
   "cell_type": "code",
   "execution_count": 36,
   "id": "ccc31572",
   "metadata": {},
   "outputs": [
    {
     "data": {
      "text/plain": [
       "Text(0.5, 0, 'Importance')"
      ]
     },
     "execution_count": 36,
     "metadata": {},
     "output_type": "execute_result"
    },
    {
     "data": {
      "image/png": "[encoded data removed]",
      "text/plain": [
       "<Figure size 144x180 with 1 Axes>"
      ]
     },
     "metadata": {
      "needs_background": "light"
     },
     "output_type": "display_data"
    }
   ],
   "source": [
    "###############################################################################\n",
    "# SA\n",
    "###############################################################################\n",
    "clr = [\n",
    "    '#FF1A4BAA', '#3a86ffAA', '#03045eAA', '#00f5d4AA', \n",
    "    '#8338ecAA','#8d99aeAA', '#cdb4dbAA'\n",
    "]\n",
    "dfSA = dfT.drop(['ISCI*', 'SHAP*'], axis=1)\n",
    "(fig, ax) = plt.subplots(figsize=(2, 2.5))\n",
    "dfT.plot.barh(\n",
    "    x='index', stacked=False, xlim=(0, 1), ax=ax,\n",
    "    ylabel='', xlabel='',\n",
    "    title='', logx=False, color=clr\n",
    ")\n",
    "plt.legend(\n",
    "    loc='lower left', bbox_to_anchor=(1, 0.5),\n",
    "    frameon=False\n",
    ")\n",
    "ax.set_xlabel(\"Importance\")"
   ]
  },
  {
   "cell_type": "markdown",
   "id": "5a31a6b3",
   "metadata": {},
   "source": [
    "## Plot for the difference between specific method and the mean"
   ]
  },
  {
   "cell_type": "code",
   "execution_count": 38,
   "id": "40c97d49",
   "metadata": {},
   "outputs": [
    {
     "data": {
      "text/plain": [
       "Text(0.5, 0, 'Importance')"
      ]
     },
     "execution_count": 38,
     "metadata": {},
     "output_type": "execute_result"
    },
    {
     "data": {
      "image/png": "[encoded data removed]",
      "text/plain": [
       "<Figure size 288x288 with 1 Axes>"
      ]
     },
     "metadata": {
      "needs_background": "light"
     },
     "output_type": "display_data"
    }
   ],
   "source": [
    "###############################################################################\n",
    "# The difference between specific method and the mean\n",
    "###############################################################################\n",
    "clr = [\n",
    "    '#FF1A4BAA', '#3a86ffAA', '#03045eAA', '#00f5d4AA', \n",
    "    '#8338ecAA','#8d99aeAA', '#cdb4dbAA'\n",
    "]\n",
    "\n",
    "(fig, ax) = plt.subplots(figsize=(4, 4))\n",
    "df_meanT.plot.barh(\n",
    "    x='index', stacked=False, xlim=(-0.21, 0.21), ax=ax,\n",
    "    ylabel='', xlabel='',\n",
    "    title='', logx=False, color=clr\n",
    ")\n",
    "plt.legend(\n",
    "    loc='lower left', bbox_to_anchor=(1, 0.5),\n",
    "    frameon=False\n",
    ")\n",
    "ax.set_xlabel(\"Importance\")"
   ]
  },
  {
   "cell_type": "code",
   "execution_count": 39,
   "id": "228fac84",
   "metadata": {
    "scrolled": true
   },
   "outputs": [
    {
     "name": "stderr",
     "output_type": "stream",
     "text": [
      "Attempt to set non-positive xlim on a log-scaled axis will be ignored.\n"
     ]
    },
    {
     "data": {
      "text/plain": [
       "Text(0.5, 0, 'Log-Importance')"
      ]
     },
     "execution_count": 39,
     "metadata": {},
     "output_type": "execute_result"
    },
    {
     "data": {
      "image/png": "[encoded data removed]",
      "text/plain": [
       "<Figure size 288x288 with 1 Axes>"
      ]
     },
     "metadata": {
      "needs_background": "light"
     },
     "output_type": "display_data"
    }
   ],
   "source": [
    "###############################################################################\n",
    "# log version\n",
    "###############################################################################\n",
    "(fig, ax) = plt.subplots(figsize=(4, 4))\n",
    "df_meanT.plot.barh(\n",
    "    x='index', stacked=False, xlim=(-1, 1), ax=ax,\n",
    "    ylabel='', xlabel='',\n",
    "    title='', logx=True, color=clr\n",
    ")\n",
    "plt.legend(\n",
    "    loc='lower left', bbox_to_anchor=(1, 0.5),\n",
    "    frameon=False\n",
    ")\n",
    "ax.set_xlabel(\"Log-Importance\")"
   ]
  },
  {
   "cell_type": "code",
   "execution_count": null,
   "id": "79d73a0f",
   "metadata": {},
   "outputs": [],
   "source": []
  }
 ],
 "metadata": {
  "kernelspec": {
   "display_name": "Python 3 (ipykernel)",
   "language": "python",
   "name": "python3"
  },
  "language_info": {
   "codemirror_mode": {
    "name": "ipython",
    "version": 3
   },
   "file_extension": ".py",
   "mimetype": "text/x-python",
   "name": "python",
   "nbconvert_exporter": "python",
   "pygments_lexer": "ipython3",
   "version": "3.8.2"
  }
 },
 "nbformat": 4,
 "nbformat_minor": 5
}
